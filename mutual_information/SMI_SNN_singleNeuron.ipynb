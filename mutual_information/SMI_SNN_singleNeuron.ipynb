{
 "cells": [
  {
   "cell_type": "code",
   "execution_count": 1,
   "id": "de7ed6fd",
   "metadata": {},
   "outputs": [],
   "source": [
    "from brian2 import *\n",
    "import numpy as np\n",
    "import matplotlib.pyplot as plt\n",
    "from sklearn.feature_selection import mutual_info_regression"
   ]
  },
  {
   "cell_type": "code",
   "execution_count": 2,
   "id": "c0d03ba5",
   "metadata": {},
   "outputs": [],
   "source": [
    "def strobe(tvec,signal,period):\n",
    "    n = 0\n",
    "    strobedSignal = []\n",
    "    strobedTime = []\n",
    "    for t in tvec:\n",
    "        if t % period == 0:\n",
    "#             print(t)\n",
    "            strobedTime.append(t)\n",
    "            strobedSignal.append(signal[n])\n",
    "        n += 1\n",
    "    return [strobedTime, strobedSignal]"
   ]
  },
  {
   "cell_type": "code",
   "execution_count": 4,
   "id": "11b8427c",
   "metadata": {},
   "outputs": [
    {
     "name": "stdout",
     "output_type": "stream",
     "text": [
      "843\n",
      "1101001011\n",
      "spike count = 6\n"
     ]
    }
   ],
   "source": [
    "# compute the rank of a spike train\n",
    "def sTrainToRank(sTrain, delta_t, duration):\n",
    "    \"\"\"\n",
    "    This function takes a spike train as input (a list of times when spikes occur)\n",
    "    and returns a rank for that spike train by converting it to a binary sequence\n",
    "    and converting that to a base 10 number.\n",
    "    \n",
    "    For example, a spike train sTrain = np.array([0.5,1.3,3.4,6.7,8.9,9.3]) would\n",
    "    get converted to the string 1101001011 if a time bin delta_t=1 was used. This\n",
    "    binary string would then be converted to 843 in base 10.\n",
    "    \n",
    "    sTrain = the list of spike times\n",
    "    delta_t = the size of the time bin\n",
    "    duration = the length of the time series to consider\n",
    "    \"\"\"\n",
    "    Ts = int(duration) # consider time sequences of length 4*ms\n",
    "\n",
    "    binTrain = np.zeros(Ts//delta_t)\n",
    "    count = 0\n",
    "    for j in range(len(binTrain)):\n",
    "        state = int(0)\n",
    "        for s in sTrain:\n",
    "            condition = (s >= j*delta_t and s < (j+1)*delta_t)\n",
    "            if condition:\n",
    "                state = 1\n",
    "                count += 1 # spike count\n",
    "        binTrain[j] = int(state)\n",
    "\n",
    "    # convert the list binTrain to a string\n",
    "    \n",
    "    binTrainStr=\"\"\n",
    "    for i in binTrain:\n",
    "        binTrainStr += str(int(i))\n",
    "\n",
    "    # convert the binary sequence to a number in base 10\n",
    "    binTrainBase10 = int(binTrainStr, 2)\n",
    "    ret = [binTrainBase10, binTrainStr, count]\n",
    "    return ret\n",
    "\n",
    "sTrain = np.array([0.5,1.3,3.4,6.7,8.9,9.3])\n",
    "delta_t = 1\n",
    "duration = 10\n",
    "binTrainBase10, binTrainStr, count = sTrainToRank(sTrain, delta_t, duration)\n",
    "print(binTrainBase10)\n",
    "print(binTrainStr)\n",
    "print(f'spike count = {count}')"
   ]
  },
  {
   "cell_type": "code",
   "execution_count": 59,
   "id": "bb121ce4",
   "metadata": {
    "scrolled": true
   },
   "outputs": [],
   "source": [
    "start_scope()\n",
    "duration = 5000*ms\n",
    "dt = defaultclock.dt\n",
    "tVec = np.arange(0,duration/ms+dt/ms,dt/ms)\n",
    "noise = np.random.normal(0,1,len(tVec))\n",
    "f1 = 5*Hz # frequency of I(t) in (Hz)\n",
    "f2 = 10*Hz\n",
    "f3 = 2*Hz\n",
    "det = np.sin(2*np.pi*tVec*f1/(1000*Hz)) + np.sin(2*np.pi*tVec*f2/(1000*Hz)) - np.sin(2*np.pi*tVec*f3/(1000*Hz))\n",
    "signal = det + noise\n",
    "# signal = noise\n",
    "In = TimedArray(signal,dt)\n",
    "\n",
    "tau = 10*ms\n",
    "eqs = '''\n",
    "dv/dt = (1-v+In(t))/tau : 1 (unless refractory)\n",
    "'''\n",
    "\n",
    "G = NeuronGroup(1, eqs, threshold='v>1', reset='v=0', refractory = 5*ms, method='exact')\n",
    "M = StateMonitor(G, ['v'], record=True)\n",
    "S = SpikeMonitor(G)\n",
    "run(duration)\n",
    "\n",
    "# fig, ax = plt.subplots(2,1)\n",
    "# ax[0].plot(tVec, signal)\n",
    "# ax[0].set_xticks([])\n",
    "# ax[0].set_ylabel('stimulus')\n",
    "# ax[1].plot(M.t/ms, M.v[0])\n",
    "# ax[1].plot(S.t/ms,np.zeros(len(S.t/ms)),marker='o',linestyle='',color='black')\n",
    "# ax[1].set_ylabel('voltage')\n",
    "# ax[1].set_xlabel('time (ms)')\n",
    "# plt.show()"
   ]
  },
  {
   "cell_type": "code",
   "execution_count": 60,
   "id": "f82bd246",
   "metadata": {
    "scrolled": false
   },
   "outputs": [
    {
     "name": "stdout",
     "output_type": "stream",
     "text": [
      "[12.8 23.3 34.7 49.5] = 0010101001 has rank 169 and spike count = 4\n",
      "[15.6 25.6 35.5 46.9] = 0001010101 has rank 85 and spike count = 4\n",
      "[12.5 44.1] = 0010000010 has rank 130 and spike count = 2\n",
      "[ 7.3 18.2 29.9 46.6] = 0101010001 has rank 337 and spike count = 4\n",
      "[46.5] = 0000000001 has rank 1 and spike count = 1\n",
      "[ 6.3 15.1 23.5 31.5 40.7 49.7] = 0101101011 has rank 363 and spike count = 6\n",
      "[11.3 41. ] = 0010000010 has rank 130 and spike count = 2\n",
      "[12.6 22.6 35.9] = 0010100100 has rank 164 and spike count = 3\n",
      "[ 3.6 12.9 21.5 29.7 38.1 46.6] = 1010110101 has rank 693 and spike count = 6\n",
      "[ 6.  16.7 29.5 42.8] = 0101010010 has rank 338 and spike count = 4\n",
      "[ 4.8 15.2 26.2 42.8] = 1001010010 has rank 594 and spike count = 4\n",
      "[11.7 22.1 32.3 45.6] = 0010101001 has rank 169 and spike count = 4\n",
      "[14.6 24.7 34.1 44.2] = 0010101010 has rank 170 and spike count = 4\n",
      "[ 6.6 29.4 47.6] = 0100010001 has rank 273 and spike count = 3\n",
      "[ 9.4 20.5 31.8 47.8] = 0100101001 has rank 297 and spike count = 4\n",
      "[46.8] = 0000000001 has rank 1 and spike count = 1\n",
      "[ 7.3 15.9 24.2 32.8 41.4] = 0101101010 has rank 362 and spike count = 5\n",
      "[ 1.1 13.3] = 1010000000 has rank 640 and spike count = 2\n",
      "[ 9.8 22.6 36.8] = 0100100100 has rank 292 and spike count = 3\n",
      "[ 3.5 13.1 21.7 30.2 38.3 47.1] = 1010101101 has rank 685 and spike count = 6\n",
      "[ 7.3 19.8 33.5 46.3] = 0101001001 has rank 329 and spike count = 4\n",
      "[ 7.7 18.9 30.9] = 0101001000 has rank 328 and spike count = 3\n",
      "[10.9 21.3 31.5 42.3] = 0010101010 has rank 170 and spike count = 4\n",
      "[17.2 27.4 37.3 47.7] = 0001010101 has rank 85 and spike count = 4\n",
      "[11.3 41.7] = 0010000010 has rank 130 and spike count = 2\n",
      "[ 6.3 18.1 29.8 48.4] = 0101010001 has rank 337 and spike count = 4\n",
      "[45.9] = 0000000001 has rank 1 and spike count = 1\n",
      "[ 6.8 16.2 24.6 32.6 40.8] = 0101101010 has rank 362 and spike count = 5\n",
      "[ 0.5 12.6] = 1010000000 has rank 640 and spike count = 2\n",
      "[10.1 22.5 36.8] = 0010100100 has rank 164 and spike count = 3\n",
      "[ 1.7 11.4 20.1 28.6 36.7 45.6] = 1010110101 has rank 693 and spike count = 6\n",
      "[ 4.8 16.1 29.6 43.6] = 1001010010 has rank 594 and spike count = 4\n",
      "[ 5.9 17.8 29.6] = 0101010000 has rank 336 and spike count = 3\n",
      "[10.1 21.5 32.2 44.4] = 0010101010 has rank 170 and spike count = 4\n",
      "[15.5 26.1 36.1 47.1] = 0001010101 has rank 85 and spike count = 4\n",
      "[11.6 36.6] = 0010000100 has rank 132 and spike count = 2\n",
      "[ 2.4 14.3 26.8 42.5 48.7] = 1010010011 has rank 659 and spike count = 5\n",
      "[ 9.2 17.8 26.  34.2 43. ] = 0101011010 has rank 346 and spike count = 5\n",
      "[ 3.4 19.7] = 1001000000 has rank 576 and spike count = 2\n",
      "[ 5.3 21.4 35.6 35.6] = 0100100100 has rank 292 and spike count = 4\n",
      "[ 2.4 12.3 21.1 29.4 37.6 46.3] = 1010110101 has rank 693 and spike count = 6\n",
      "[ 6.3 17.2 32.4 46.3] = 0101001001 has rank 329 and spike count = 4\n",
      "[ 8.2 19.4 30.9] = 0101001000 has rank 328 and spike count = 3\n",
      "[ 8.5 19.5 30.3 41.2] = 0101001010 has rank 330 and spike count = 4\n",
      "[16.2 26.6 36.5 48.9] = 0001010101 has rank 85 and spike count = 4\n",
      "[13.6 33.7] = 0010001000 has rank 136 and spike count = 2\n",
      "[ 1.  13.2 24.8 39.3 47.5] = 1010100101 has rank 677 and spike count = 5\n",
      "[ 8.4 17.1 25.4 34.4 43.1] = 0101011010 has rank 346 and spike count = 5\n",
      "[ 2.8 17.6] = 1001000000 has rank 576 and spike count = 2\n",
      "[ 7.5 22.1 35.4] = 0100100100 has rank 292 and spike count = 3\n",
      "[ 4.6 14.2 22.9 31.2 39.4 48.1] = 1010101101 has rank 685 and spike count = 6\n",
      "[ 7.5 20.3 34.2 47.9] = 0100101001 has rank 297 and spike count = 4\n"
     ]
    }
   ],
   "source": [
    "T=50\n",
    "st = S.t/ms % T\n",
    "stOG = S.t/ms\n",
    "delta_t = 5\n",
    "stimVec = strobe(tVec,signal,T)[1]\n",
    "rankVec = np.zeros(len(stimVec))\n",
    "countVec = np.zeros(len(stimVec))\n",
    "# print(f'stOG = {stOG}')\n",
    "# print(f'st = {st}')\n",
    "# print('\\ndecomposed:')\n",
    "n0 = 0\n",
    "j = 0\n",
    "for n in range(len(st)-1):\n",
    "    if st[n+1] < st[n]:\n",
    "        sub_st = st[n0:n+1]\n",
    "#         print(sub_st)\n",
    "        binTrainBase10, binTrainStr, count = sTrainToRank(sub_st, delta_t, T)\n",
    "        print(f'{sub_st} = {binTrainStr} has rank {binTrainBase10} and spike count = {count}')\n",
    "        rankVec[j] = binTrainBase10\n",
    "        countVec[j] = count\n",
    "        n0 = n+1\n",
    "        j+=1\n",
    "    if stOG[n+1] > duration/ms - T:\n",
    "#         print(stOG[n+1])\n",
    "        sub_st = st[n+1:]\n",
    "        binTrainBase10, binTrainStr, count = sTrainToRank(sub_st, delta_t, T)\n",
    "        print(f'{sub_st} = {binTrainStr} has rank {binTrainBase10} and spike count = {count}')\n",
    "        rankVec[j] = binTrainBase10\n",
    "        countVec[j] = count\n",
    "        break\n",
    "\n",
    "# print(f'\\nstimVec = {stimVec}')\n",
    "# print(f'rankVec = {rankVec}')\n",
    "# print(f'countVec = {countVec}')"
   ]
  },
  {
   "cell_type": "code",
   "execution_count": 61,
   "id": "9610e2d4",
   "metadata": {},
   "outputs": [
    {
     "name": "stdout",
     "output_type": "stream",
     "text": [
      "0.10963847121227621\n"
     ]
    }
   ],
   "source": [
    "X = np.reshape(countVec,(len(countVec),1))\n",
    "Y = stimVec\n",
    "MI = mutual_info_regression(X,Y)[0]\n",
    "print(MI)"
   ]
  },
  {
   "cell_type": "code",
   "execution_count": 62,
   "id": "3b11c4b1",
   "metadata": {},
   "outputs": [],
   "source": [
    "def computeSMI(X, Y, m, k):\n",
    "    '''\n",
    "    computes the sliced mutual information (see Goldfeld & Greenewald 2021)\n",
    "        between X and Y with m slices.\n",
    "    Assumes X has shape (dimX) X (obs) and Y has shape (dimY) X (obs) where\n",
    "        'obs' is the number of observations.\n",
    "    This code uses the KSG method for estimating mutual information, imported\n",
    "        from sklearn.feature_selection\n",
    "    '''\n",
    "    dimX = X.shape[0]\n",
    "    dimY = Y.shape[0]\n",
    "    SMI = 0\n",
    "    for mi in range(m):\n",
    "        Theta = np.random.uniform(0,1,dimX)\n",
    "        Phi = np.random.uniform(0,1,dimY)\n",
    "        newX = np.dot(Theta,X)\n",
    "        newX = np.reshape(newX, (len(newX),1))\n",
    "        newY = np.dot(Phi,Y)\n",
    "        Si = mutual_info_regression(newX, newY, n_neighbors=k)[0]\n",
    "        SMI += Si/np.log(2)\n",
    "    SMI = SMI/m\n",
    "    return SMI"
   ]
  },
  {
   "cell_type": "code",
   "execution_count": 66,
   "id": "807e5ab7",
   "metadata": {},
   "outputs": [
    {
     "name": "stdout",
     "output_type": "stream",
     "text": [
      "101\n",
      "101\n",
      "0.15247453922492588\n"
     ]
    }
   ],
   "source": [
    "X = countVec + np.random.normal(0,10**(-4),len(countVec))\n",
    "print(len(X))\n",
    "X = np.reshape(X, (1,len(X)))\n",
    "Y = np.array(stimVec)\n",
    "print(len(Y))\n",
    "Y = np.reshape(Y, (1,len(Y)))\n",
    "m=3\n",
    "k=3\n",
    "MIfunc = computeSMI(X,Y,m,k)\n",
    "print(MIfunc)"
   ]
  },
  {
   "cell_type": "code",
   "execution_count": 40,
   "id": "9d613c9c",
   "metadata": {},
   "outputs": [
    {
     "name": "stdout",
     "output_type": "stream",
     "text": [
      "[1. 1. 2. 1. 2. 1. 1. 2. 0. 0. 0.]\n"
     ]
    }
   ],
   "source": [
    "print(countVec)"
   ]
  },
  {
   "cell_type": "code",
   "execution_count": 69,
   "id": "f89709f7",
   "metadata": {},
   "outputs": [
    {
     "name": "stderr",
     "output_type": "stream",
     "text": [
      "Exception ignored on calling ctypes callback function: <function _ThreadpoolInfo._find_modules_with_dl_iterate_phdr.<locals>.match_module_callback at 0x7fb2e3d98160>\n",
      "Traceback (most recent call last):\n",
      "  File \"/home/zmobille3/anaconda/lib/python3.9/site-packages/threadpoolctl.py\", line 400, in match_module_callback\n",
      "    self._make_module_from_path(filepath)\n",
      "  File \"/home/zmobille3/anaconda/lib/python3.9/site-packages/threadpoolctl.py\", line 515, in _make_module_from_path\n",
      "    module = module_class(filepath, prefix, user_api, internal_api)\n",
      "  File \"/home/zmobille3/anaconda/lib/python3.9/site-packages/threadpoolctl.py\", line 606, in __init__\n",
      "    self.version = self.get_version()\n",
      "  File \"/home/zmobille3/anaconda/lib/python3.9/site-packages/threadpoolctl.py\", line 646, in get_version\n",
      "    config = get_config().split()\n",
      "AttributeError: 'NoneType' object has no attribute 'split'\n",
      "Exception ignored on calling ctypes callback function: <function _ThreadpoolInfo._find_modules_with_dl_iterate_phdr.<locals>.match_module_callback at 0x7fb2e3d98160>\n",
      "Traceback (most recent call last):\n",
      "  File \"/home/zmobille3/anaconda/lib/python3.9/site-packages/threadpoolctl.py\", line 400, in match_module_callback\n",
      "    self._make_module_from_path(filepath)\n",
      "  File \"/home/zmobille3/anaconda/lib/python3.9/site-packages/threadpoolctl.py\", line 515, in _make_module_from_path\n",
      "    module = module_class(filepath, prefix, user_api, internal_api)\n",
      "  File \"/home/zmobille3/anaconda/lib/python3.9/site-packages/threadpoolctl.py\", line 606, in __init__\n",
      "    self.version = self.get_version()\n",
      "  File \"/home/zmobille3/anaconda/lib/python3.9/site-packages/threadpoolctl.py\", line 646, in get_version\n",
      "    config = get_config().split()\n",
      "AttributeError: 'NoneType' object has no attribute 'split'\n",
      "Exception ignored on calling ctypes callback function: <function _ThreadpoolInfo._find_modules_with_dl_iterate_phdr.<locals>.match_module_callback at 0x7fb2e3d98310>\n",
      "Traceback (most recent call last):\n",
      "  File \"/home/zmobille3/anaconda/lib/python3.9/site-packages/threadpoolctl.py\", line 400, in match_module_callback\n",
      "    self._make_module_from_path(filepath)\n",
      "  File \"/home/zmobille3/anaconda/lib/python3.9/site-packages/threadpoolctl.py\", line 515, in _make_module_from_path\n",
      "    module = module_class(filepath, prefix, user_api, internal_api)\n",
      "  File \"/home/zmobille3/anaconda/lib/python3.9/site-packages/threadpoolctl.py\", line 606, in __init__\n",
      "    self.version = self.get_version()\n",
      "  File \"/home/zmobille3/anaconda/lib/python3.9/site-packages/threadpoolctl.py\", line 646, in get_version\n",
      "    config = get_config().split()\n",
      "AttributeError: 'NoneType' object has no attribute 'split'\n"
     ]
    },
    {
     "name": "stdout",
     "output_type": "stream",
     "text": [
      "spike count = 0.0\n",
      "probability of spike count = 0.0 is 0.48514851485148514\n",
      "\tconditional timing MI = 1.6017132519074586e-16\n",
      "spike count = 1.0\n",
      "probability of spike count = 1.0 is 0.0297029702970297\n",
      "\tconditional timing MI = 0.0\n",
      "spike count = 2.0\n",
      "probability of spike count = 2.0 is 0.0891089108910891\n",
      "\tconditional timing MI = 1.3108296608288743\n",
      "spike count = 3.0\n",
      "probability of spike count = 3.0 is 0.07920792079207921\n",
      "\tconditional timing MI = 1.3662665536037746\n",
      "spike count = 4.0\n",
      "probability of spike count = 4.0 is 0.19801980198019803\n",
      "\tconditional timing MI = 0.18654813484905475\n",
      "spike count = 5.0\n",
      "probability of spike count = 5.0 is 0.0594059405940594\n",
      "\tconditional timing MI = 0.0\n",
      "spike count = 6.0\n",
      "probability of spike count = 6.0 is 0.0594059405940594\n",
      "\tconditional timing MI = 0.0\n",
      "temporal MI = 0.2619659611214967\n"
     ]
    }
   ],
   "source": [
    "#### SLICED MI USED HERE ####\n",
    "\n",
    "m=3\n",
    "k=1\n",
    "SCs = np.unique(countVec) # all observed spike counts\n",
    "# SCs = [1]\n",
    "# print(SCs)\n",
    "MItemp = 0\n",
    "for sc in SCs:\n",
    "    print(f'spike count = {sc}')\n",
    "#     idx = np.argwhere(countVec==sc)[:,0]\n",
    "#     idx = np.argwhere(countVec==sc)\n",
    "    idx = np.nonzero(countVec==sc)[0]\n",
    "    probSC = len(idx)/len(countVec)\n",
    "    print(f'probability of spike count = {sc} is {probSC}')\n",
    "    x = rankVec[idx]\n",
    "#     print(rankVec[idx])\n",
    "#     x = np.reshape(x,(len(x),1))\n",
    "    y = np.array(stimVec)\n",
    "    y = y[idx]\n",
    "    X = np.reshape(x, (1,len(x)))\n",
    "    Y = np.reshape(y, (1,len(y)))\n",
    "    if len(x)>1: # don't use sub-samples with only 1 element\n",
    "#         mi = mutual_info_regression(x, y, n_neighbors=1)[0]\n",
    "        mi = computeSMI(X,Y,m,k)\n",
    "        print(f'\\tconditional timing MI = {mi}')\n",
    "        MItemp+=probSC*mi\n",
    "print(f'temporal MI = {MItemp}')\n",
    "#     print(rankVec[idx])"
   ]
  },
  {
   "cell_type": "code",
   "execution_count": 65,
   "id": "8117c998",
   "metadata": {},
   "outputs": [
    {
     "name": "stderr",
     "output_type": "stream",
     "text": [
      "Exception ignored on calling ctypes callback function: <function _ThreadpoolInfo._find_modules_with_dl_iterate_phdr.<locals>.match_module_callback at 0x7fb2e3d98310>\n",
      "Traceback (most recent call last):\n",
      "  File \"/home/zmobille3/anaconda/lib/python3.9/site-packages/threadpoolctl.py\", line 400, in match_module_callback\n",
      "    self._make_module_from_path(filepath)\n",
      "  File \"/home/zmobille3/anaconda/lib/python3.9/site-packages/threadpoolctl.py\", line 515, in _make_module_from_path\n",
      "    module = module_class(filepath, prefix, user_api, internal_api)\n",
      "  File \"/home/zmobille3/anaconda/lib/python3.9/site-packages/threadpoolctl.py\", line 606, in __init__\n",
      "    self.version = self.get_version()\n",
      "  File \"/home/zmobille3/anaconda/lib/python3.9/site-packages/threadpoolctl.py\", line 646, in get_version\n",
      "    config = get_config().split()\n",
      "AttributeError: 'NoneType' object has no attribute 'split'\n"
     ]
    },
    {
     "name": "stdout",
     "output_type": "stream",
     "text": [
      "spike count = 0.0\n",
      "probability of spike count = 0.0 is 0.48514851485148514\n",
      "\tconditional timing MI = 1.1102230246251565e-16\n",
      "spike count = 1.0\n",
      "probability of spike count = 1.0 is 0.0297029702970297\n",
      "\tconditional timing MI = 0\n",
      "spike count = 2.0\n",
      "probability of spike count = 2.0 is 0.0891089108910891\n",
      "\tconditional timing MI = 0.9085978835978836\n",
      "spike count = 3.0\n",
      "probability of spike count = 3.0 is 0.07920792079207921\n",
      "\tconditional timing MI = 0.9470238095238095\n",
      "spike count = 4.0\n",
      "probability of spike count = 4.0 is 0.19801980198019803\n",
      "\tconditional timing MI = 0.13180531370933857\n",
      "spike count = 5.0\n",
      "probability of spike count = 5.0 is 0.0594059405940594\n",
      "\tconditional timing MI = 0\n",
      "spike count = 6.0\n",
      "probability of spike count = 6.0 is 0.0594059405940594\n",
      "\tconditional timing MI = 0\n",
      "temporal MI = 0.18207601685899213\n"
     ]
    }
   ],
   "source": [
    "#### NO SLICED MI USED HERE ####\n",
    "\n",
    "SCs = np.unique(countVec) # all observed spike counts\n",
    "# print(SCs)\n",
    "MItemp = 0\n",
    "for sc in SCs:\n",
    "    print(f'spike count = {sc}')\n",
    "#     idx = np.argwhere(countVec==sc)[:,0]\n",
    "#     idx = np.argwhere(countVec==sc)\n",
    "    idx = np.nonzero(countVec==sc)[0]\n",
    "    probSC = len(idx)/len(countVec)\n",
    "    print(f'probability of spike count = {sc} is {probSC}')\n",
    "    x = rankVec[idx]\n",
    "#     print(rankVec[idx])\n",
    "    x = np.reshape(x,(len(x),1))\n",
    "    y = np.array(stimVec)\n",
    "    y = y[idx]\n",
    "    if len(x)>1: # don't use sub-samples with only 1 element\n",
    "        mi = mutual_info_regression(x, y, n_neighbors=1)[0]\n",
    "        print(f'\\tconditional timing MI = {mi}')\n",
    "        MItemp+=probSC*mi\n",
    "print(f'temporal MI = {MItemp}')\n",
    "#     print(rankVec[idx])"
   ]
  }
 ],
 "metadata": {
  "kernelspec": {
   "display_name": "Python 3 (ipykernel)",
   "language": "python",
   "name": "python3"
  },
  "language_info": {
   "codemirror_mode": {
    "name": "ipython",
    "version": 3
   },
   "file_extension": ".py",
   "mimetype": "text/x-python",
   "name": "python",
   "nbconvert_exporter": "python",
   "pygments_lexer": "ipython3",
   "version": "3.9.7"
  }
 },
 "nbformat": 4,
 "nbformat_minor": 5
}
