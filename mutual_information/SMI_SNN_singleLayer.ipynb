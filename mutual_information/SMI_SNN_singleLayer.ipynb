{
 "cells": [
  {
   "cell_type": "code",
   "execution_count": 2,
   "id": "de7ed6fd",
   "metadata": {},
   "outputs": [],
   "source": [
    "from brian2 import *\n",
    "import numpy as np\n",
    "import matplotlib.pyplot as plt\n",
    "from sklearn.feature_selection import mutual_info_regression"
   ]
  },
  {
   "cell_type": "code",
   "execution_count": 3,
   "id": "c0d03ba5",
   "metadata": {},
   "outputs": [],
   "source": [
    "def strobe(tvec,signal,period):\n",
    "    n = 0\n",
    "    strobedSignal = []\n",
    "    strobedTime = []\n",
    "    for t in tvec:\n",
    "        if t % period == 0:\n",
    "#             print(t)\n",
    "            strobedTime.append(t)\n",
    "            strobedSignal.append(signal[n])\n",
    "        n += 1\n",
    "    return [strobedTime, strobedSignal]"
   ]
  },
  {
   "cell_type": "code",
   "execution_count": 4,
   "id": "11b8427c",
   "metadata": {},
   "outputs": [
    {
     "name": "stdout",
     "output_type": "stream",
     "text": [
      "843\n",
      "1101001011\n",
      "spike count = 6\n"
     ]
    }
   ],
   "source": [
    "# compute the rank of a spike train\n",
    "def sTrainToRank(sTrain, delta_t, duration):\n",
    "    \"\"\"\n",
    "    This function takes a spike train as input (a list of times when spikes occur)\n",
    "    and returns a rank for that spike train by converting it to a binary sequence\n",
    "    and converting that to a base 10 number.\n",
    "    \n",
    "    For example, a spike train sTrain = np.array([0.5,1.3,3.4,6.7,8.9,9.3]) would\n",
    "    get converted to the string 1101001011 if a time bin delta_t=1 was used. This\n",
    "    binary string would then be converted to 843 in base 10.\n",
    "    \n",
    "    sTrain = the list of spike times\n",
    "    delta_t = the size of the time bin\n",
    "    duration = the length of the time series to consider\n",
    "    \"\"\"\n",
    "    Ts = int(duration) # consider time sequences of length 4*ms\n",
    "\n",
    "    binTrain = np.zeros(Ts//delta_t)\n",
    "    count = 0\n",
    "    for j in range(len(binTrain)):\n",
    "        state = int(0)\n",
    "        for s in sTrain:\n",
    "            condition = (s >= j*delta_t and s < (j+1)*delta_t)\n",
    "            if condition:\n",
    "                state = 1\n",
    "                count += 1 # spike count\n",
    "        binTrain[j] = int(state)\n",
    "\n",
    "    # convert the list binTrain to a string\n",
    "    \n",
    "    binTrainStr=\"\"\n",
    "    for i in binTrain:\n",
    "        binTrainStr += str(int(i))\n",
    "\n",
    "    # convert the binary sequence to a number in base 10\n",
    "    binTrainBase10 = int(binTrainStr, 2)\n",
    "    ret = [binTrainBase10, binTrainStr, count]\n",
    "    return ret\n",
    "\n",
    "sTrain = np.array([0.5,1.3,3.4,6.7,8.9,9.3])\n",
    "delta_t = 1\n",
    "duration = 10\n",
    "binTrainBase10, binTrainStr, count = sTrainToRank(sTrain, delta_t, duration)\n",
    "print(binTrainBase10)\n",
    "print(binTrainStr)\n",
    "print(f'spike count = {count}')"
   ]
  },
  {
   "cell_type": "code",
   "execution_count": 13,
   "id": "bb121ce4",
   "metadata": {
    "scrolled": false
   },
   "outputs": [
    {
     "data": {
      "image/png": "[encoded data removed]",
      "text/plain": [
       "<Figure size 432x288 with 2 Axes>"
      ]
     },
     "metadata": {
      "needs_background": "light"
     },
     "output_type": "display_data"
    }
   ],
   "source": [
    "start_scope()\n",
    "duration = 100*ms\n",
    "dt = defaultclock.dt\n",
    "tVec = np.arange(0,duration/ms+dt/ms,dt/ms)\n",
    "noise = np.random.normal(0,0.1,len(tVec))\n",
    "f1 = 5*Hz # frequency of I(t) in (Hz)\n",
    "f2 = 10*Hz\n",
    "f3 = 2*Hz\n",
    "det = 0.5*np.sin(2*np.pi*tVec*f1/(1000*Hz)) + 0.5*np.sin(2*np.pi*tVec*f2/(1000*Hz)) - 0.5*np.sin(2*np.pi*tVec*f3/(1000*Hz))\n",
    "signal = det + noise\n",
    "# signal = noise\n",
    "In = TimedArray(signal,dt)\n",
    "\n",
    "tau = 10*ms\n",
    "eqs = '''\n",
    "dv/dt = (1-v+In(t))/tau : 1 (unless refractory)\n",
    "'''\n",
    "\n",
    "G = NeuronGroup(10, eqs, threshold='v>rand()', reset='v=0', refractory = 5*ms, method='exact')\n",
    "G.v = 'rand()'\n",
    "M = StateMonitor(G, ['v'], record=True)\n",
    "S = SpikeMonitor(G)\n",
    "run(duration)\n",
    "\n",
    "fig, ax = plt.subplots(2,1)\n",
    "ax[0].plot(tVec, signal)\n",
    "ax[0].set_xticks([])\n",
    "ax[0].set_ylabel('stimulus')\n",
    "# ax[1].plot(M.t/ms, M.v[0])\n",
    "ax[1].plot(S.t/ms,S.i,marker='o',linestyle='',color='black',markersize=3)\n",
    "ax[1].set_ylabel('neuron index')\n",
    "ax[1].set_xlabel('time (ms)')\n",
    "plt.show()"
   ]
  },
  {
   "cell_type": "code",
   "execution_count": 44,
   "id": "c2424008",
   "metadata": {},
   "outputs": [
    {
     "name": "stdout",
     "output_type": "stream",
     "text": [
      "[ 0.   5.8 11.7 19.  24.5 31.2 37.  43.4 49. ] = 1111101111 has rank 1007 and spike count = 9\n",
      "[ 4.7 10.1 17.4 26.4 33.3 42.2 48.6] = 1011011011 has rank 731 and spike count = 7\n",
      "[ 0.   7.2 13.3 19.9 25.8 31.4 37.8 43.8 49.3] = 1111011111 has rank 991 and spike count = 9\n",
      "[ 6.  12.  17.3 23.3 30.9 37.1 44.1] = 0111101110 has rank 494 and spike count = 7\n",
      "[ 0.9  6.5 12.1 18.2 23.6 30.2 36.1 42.3 48.1] = 1111101111 has rank 1007 and spike count = 9\n",
      "[ 4.5 11.1 16.4 22.4 29.7 36.3 43.7] = 1011110110 has rank 758 and spike count = 7\n",
      "[ 0.   6.2 12.4 17.7 24.3 31.1 36.3 42.1 48.5] = 1111101111 has rank 1007 and spike count = 9\n",
      "[ 4.7 10.9 18.7 26.1 33.  39.9 46.2] = 1011011101 has rank 733 and spike count = 7\n",
      "[ 0.1  5.6 12.2 17.5 23.9 29.1 34.8 40.3 45.8] = 1111111011 has rank 1019 and spike count = 9\n",
      "[ 1.4  7.4 13.4 19.4 26.  31.6 41.7 47.9] = 1111011011 has rank 987 and spike count = 8\n",
      "[ 0.   6.6 12.6 18.3 24.2 30.2 35.7 42.3 49. ] = 1111101111 has rank 1007 and spike count = 9\n",
      "[ 5.6 12.2 17.5 25.1 31.5 39.2 45.4] = 0111011101 has rank 477 and spike count = 7\n",
      "[ 0.   6.7 12.1 18.3 23.7 29.8 36.2 42.1 48.9] = 1111110111 has rank 1015 and spike count = 9\n",
      "[ 5.4 11.6 17.6 24.4 30.5 36.6 44. ] = 0111101110 has rank 494 and spike count = 7\n",
      "[ 0.2  6.4 12.  18.8 25.8 31.7 38.3 44.7] = 1111011110 has rank 990 and spike count = 8\n",
      "[ 0.6  6.5 12.2 18.1 23.8 30.5 37.1 42.8 48.9] = 1111101111 has rank 1007 and spike count = 9\n",
      "[ 0.1  7.  13.  19.3 25.1 31.  36.9 43.8 49.1] = 1111011111 has rank 991 and spike count = 9\n",
      "[ 4.8  9.8 15.9 22.9 28.3 34.5 41.8] = 1101111010 has rank 890 and spike count = 7\n",
      "[ 0.1  7.1 12.7 18.1 24.6 30.8 37.8 43.5] = 1111101110 has rank 1006 and spike count = 8\n",
      "[ 0.1  5.8 11.8 18.6 24.7 30.6 37.3 43.2 49.8] = 1111101111 has rank 1007 and spike count = 9\n"
     ]
    },
    {
     "data": {
      "text/plain": [
       "(10, 3)"
      ]
     },
     "execution_count": 44,
     "metadata": {},
     "output_type": "execute_result"
    }
   ],
   "source": [
    "# max(S.i)\n",
    "T=50\n",
    "delta_t = 5\n",
    "stimVec = strobe(tVec,signal,T)[1]\n",
    "ranks = np.zeros((max(S.i)+1,len(stimVec)))\n",
    "counts = np.zeros((max(S.i)+1,len(stimVec)))\n",
    "\n",
    "for nrn in range(max(S.i)+1):\n",
    "    stOG = S.t[S.i==nrn]/ms\n",
    "    st = S.t[S.i==nrn]/ms % T\n",
    "\n",
    "    n0 = 0\n",
    "    j = 0 # counter through time\n",
    "    for n in range(len(st)-1):\n",
    "        if st[n+1] < st[n]:\n",
    "            sub_st = st[n0:n+1]\n",
    "    #         print(sub_st)\n",
    "            binTrainBase10, binTrainStr, count = sTrainToRank(sub_st, delta_t, T)\n",
    "            print(f'{sub_st} = {binTrainStr} has rank {binTrainBase10} and spike count = {count}')\n",
    "            ranks[nrn][j] = binTrainBase10\n",
    "            counts[nrn][j] = count\n",
    "            n0 = n+1\n",
    "            j+=1\n",
    "        if stOG[n+1] > duration/ms - T:\n",
    "    #         print(stOG[n+1])\n",
    "            sub_st = st[n+1:]\n",
    "            binTrainBase10, binTrainStr, count = sTrainToRank(sub_st, delta_t, T)\n",
    "            print(f'{sub_st} = {binTrainStr} has rank {binTrainBase10} and spike count = {count}')\n",
    "            ranks[nrn][j] = binTrainBase10\n",
    "            counts[nrn][j] = count\n",
    "            break\n",
    "            \n",
    "ranks.shape"
   ]
  },
  {
   "cell_type": "code",
   "execution_count": 27,
   "id": "3b11c4b1",
   "metadata": {},
   "outputs": [],
   "source": [
    "def computeSMI(X, Y, m, k):\n",
    "    '''\n",
    "    computes the sliced mutual information (see Goldfeld & Greenewald 2021)\n",
    "        between X and Y with m slices.\n",
    "    Assumes X has shape (dimX) X (obs) and Y has shape (dimY) X (obs) where\n",
    "        'obs' is the number of observations.\n",
    "    This code uses the KSG method for estimating mutual information, imported\n",
    "        from sklearn.feature_selection\n",
    "    '''\n",
    "    dimX = X.shape[0]\n",
    "    dimY = Y.shape[0]\n",
    "    SMI = 0\n",
    "    for mi in range(m):\n",
    "        Theta = np.random.uniform(0,1,dimX)\n",
    "        Phi = np.random.uniform(0,1,dimY)\n",
    "        newX = np.dot(Theta,X)\n",
    "        newX = np.reshape(newX, (len(newX),1))\n",
    "        newY = np.dot(Phi,Y)\n",
    "        Si = mutual_info_regression(newX, newY, n_neighbors=k)[0]\n",
    "        SMI += Si/np.log(2)\n",
    "    SMI = SMI/m\n",
    "    return SMI"
   ]
  },
  {
   "cell_type": "code",
   "execution_count": 32,
   "id": "807e5ab7",
   "metadata": {
    "scrolled": true
   },
   "outputs": [
    {
     "name": "stderr",
     "output_type": "stream",
     "text": [
      "Exception ignored on calling ctypes callback function: <function _ThreadpoolInfo._find_modules_with_dl_iterate_phdr.<locals>.match_module_callback at 0x7f9398c501f0>\n",
      "Traceback (most recent call last):\n",
      "  File \"/home/zmobille3/anaconda/lib/python3.9/site-packages/threadpoolctl.py\", line 400, in match_module_callback\n",
      "    self._make_module_from_path(filepath)\n",
      "  File \"/home/zmobille3/anaconda/lib/python3.9/site-packages/threadpoolctl.py\", line 515, in _make_module_from_path\n",
      "    module = module_class(filepath, prefix, user_api, internal_api)\n",
      "  File \"/home/zmobille3/anaconda/lib/python3.9/site-packages/threadpoolctl.py\", line 606, in __init__\n",
      "    self.version = self.get_version()\n",
      "  File \"/home/zmobille3/anaconda/lib/python3.9/site-packages/threadpoolctl.py\", line 646, in get_version\n",
      "    config = get_config().split()\n",
      "AttributeError: 'NoneType' object has no attribute 'split'\n",
      "Exception ignored on calling ctypes callback function: <function _ThreadpoolInfo._find_modules_with_dl_iterate_phdr.<locals>.match_module_callback at 0x7f93a1d56790>\n",
      "Traceback (most recent call last):\n",
      "  File \"/home/zmobille3/anaconda/lib/python3.9/site-packages/threadpoolctl.py\", line 400, in match_module_callback\n",
      "    self._make_module_from_path(filepath)\n",
      "  File \"/home/zmobille3/anaconda/lib/python3.9/site-packages/threadpoolctl.py\", line 515, in _make_module_from_path\n",
      "    module = module_class(filepath, prefix, user_api, internal_api)\n",
      "  File \"/home/zmobille3/anaconda/lib/python3.9/site-packages/threadpoolctl.py\", line 606, in __init__\n",
      "    self.version = self.get_version()\n",
      "  File \"/home/zmobille3/anaconda/lib/python3.9/site-packages/threadpoolctl.py\", line 646, in get_version\n",
      "    config = get_config().split()\n",
      "AttributeError: 'NoneType' object has no attribute 'split'\n",
      "Exception ignored on calling ctypes callback function: <function _ThreadpoolInfo._find_modules_with_dl_iterate_phdr.<locals>.match_module_callback at 0x7f9398fd48b0>\n",
      "Traceback (most recent call last):\n",
      "  File \"/home/zmobille3/anaconda/lib/python3.9/site-packages/threadpoolctl.py\", line 400, in match_module_callback\n",
      "    self._make_module_from_path(filepath)\n",
      "  File \"/home/zmobille3/anaconda/lib/python3.9/site-packages/threadpoolctl.py\", line 515, in _make_module_from_path\n",
      "    module = module_class(filepath, prefix, user_api, internal_api)\n",
      "  File \"/home/zmobille3/anaconda/lib/python3.9/site-packages/threadpoolctl.py\", line 606, in __init__\n",
      "    self.version = self.get_version()\n",
      "  File \"/home/zmobille3/anaconda/lib/python3.9/site-packages/threadpoolctl.py\", line 646, in get_version\n",
      "    config = get_config().split()\n",
      "AttributeError: 'NoneType' object has no attribute 'split'\n",
      "Exception ignored on calling ctypes callback function: <function _ThreadpoolInfo._find_modules_with_dl_iterate_phdr.<locals>.match_module_callback at 0x7f9398dbb9d0>\n",
      "Traceback (most recent call last):\n",
      "  File \"/home/zmobille3/anaconda/lib/python3.9/site-packages/threadpoolctl.py\", line 400, in match_module_callback\n",
      "    self._make_module_from_path(filepath)\n",
      "  File \"/home/zmobille3/anaconda/lib/python3.9/site-packages/threadpoolctl.py\", line 515, in _make_module_from_path\n",
      "    module = module_class(filepath, prefix, user_api, internal_api)\n",
      "  File \"/home/zmobille3/anaconda/lib/python3.9/site-packages/threadpoolctl.py\", line 606, in __init__\n",
      "    self.version = self.get_version()\n",
      "  File \"/home/zmobille3/anaconda/lib/python3.9/site-packages/threadpoolctl.py\", line 646, in get_version\n",
      "    config = get_config().split()\n",
      "AttributeError: 'NoneType' object has no attribute 'split'\n",
      "Exception ignored on calling ctypes callback function: <function _ThreadpoolInfo._find_modules_with_dl_iterate_phdr.<locals>.match_module_callback at 0x7f9398fd48b0>\n",
      "Traceback (most recent call last):\n",
      "  File \"/home/zmobille3/anaconda/lib/python3.9/site-packages/threadpoolctl.py\", line 400, in match_module_callback\n",
      "    self._make_module_from_path(filepath)\n",
      "  File \"/home/zmobille3/anaconda/lib/python3.9/site-packages/threadpoolctl.py\", line 515, in _make_module_from_path\n",
      "    module = module_class(filepath, prefix, user_api, internal_api)\n",
      "  File \"/home/zmobille3/anaconda/lib/python3.9/site-packages/threadpoolctl.py\", line 606, in __init__\n",
      "    self.version = self.get_version()\n",
      "  File \"/home/zmobille3/anaconda/lib/python3.9/site-packages/threadpoolctl.py\", line 646, in get_version\n",
      "    config = get_config().split()\n",
      "AttributeError: 'NoneType' object has no attribute 'split'\n"
     ]
    },
    {
     "name": "stdout",
     "output_type": "stream",
     "text": [
      "(10, 3)\n",
      "0.24044917348149397\n"
     ]
    }
   ],
   "source": [
    "X = counts + np.random.normal(0,10**(-4),(max(S.i)+1,len(stimVec)))\n",
    "print(X.shape)\n",
    "# print(len(X))\n",
    "# X = np.reshape(X, (1,len(X)))\n",
    "Y = np.array(stimVec)\n",
    "# print(len(Y))\n",
    "Y = np.reshape(Y, (1,len(Y)))\n",
    "m=5\n",
    "k=1\n",
    "MIfunc = computeSMI(X,Y,m,k)\n",
    "print(MIfunc)"
   ]
  },
  {
   "cell_type": "code",
   "execution_count": 40,
   "id": "9d613c9c",
   "metadata": {},
   "outputs": [
    {
     "data": {
      "text/plain": [
       "30"
      ]
     },
     "execution_count": 40,
     "metadata": {},
     "output_type": "execute_result"
    }
   ],
   "source": [
    "numObs = counts.shape[0]*counts.shape[1]\n",
    "numObs"
   ]
  },
  {
   "cell_type": "code",
   "execution_count": 55,
   "id": "f89709f7",
   "metadata": {},
   "outputs": [
    {
     "name": "stdout",
     "output_type": "stream",
     "text": [
      "spike count = 0.0\n",
      "(array([0, 1, 2, 3, 4, 5, 6, 7, 8, 9]), array([2, 2, 2, 2, 2, 2, 2, 2, 2, 2]))\n",
      "spike count = 7.0\n",
      "(array([0, 1, 2, 3, 5, 6, 8]), array([1, 1, 1, 1, 1, 1, 1]))\n",
      "spike count = 8.0\n",
      "(array([4, 7, 9]), array([1, 0, 0]))\n",
      "spike count = 9.0\n",
      "(array([0, 1, 2, 3, 4, 5, 6, 7, 8, 9]), array([0, 0, 0, 0, 0, 0, 0, 1, 0, 1]))\n"
     ]
    }
   ],
   "source": [
    "#### SLICED MI USED HERE ####\n",
    "\n",
    "m=3\n",
    "k=1\n",
    "SCs = np.unique(counts) # all observed spike counts\n",
    "numObs = counts.shape[0]*counts.shape[1] # total number of spike count observations\n",
    "# SCs = [1]\n",
    "# print(SCs)\n",
    "MItemp = 0\n",
    "for sc in SCs:\n",
    "    print(f'spike count = {sc}')\n",
    "#     idx = np.nonzero(counts==sc)[0]\n",
    "    idx = np.nonzero(counts==sc)\n",
    "    print(idx)\n",
    "#     probSC = len(idx[0])/numObs\n",
    "# #     print(len(idx[0]))\n",
    "# #     probSC = len(idx)/len(countVec)\n",
    "#     print(f'probability of spike count = {sc} is {probSC}')\n",
    "# #     print(ranks[idx])\n",
    "#     x = ranks[idx]\n",
    "#     x = np.reshape(x,(len(x),1))\n",
    "#     y = np.array(stimVec)\n",
    "#     y = y[idx]\n",
    "#     X = np.reshape(x, (1,len(x)))\n",
    "#     Y = np.reshape(y, (1,len(y)))\n",
    "#     if len(x)>1: # don't use sub-samples with only 1 element\n",
    "#         mi = computeSMI(X,Y,m,k)\n",
    "#         print(f'\\tconditional timing MI = {mi}')\n",
    "#         MItemp += probSC*mi\n",
    "# print(f'temporal MI = {MItemp}')\n",
    "\n",
    "#     for nrn in range(max(S.i)+1):\n",
    "#         x = ranks[idx]\n",
    "#         print(x)\n",
    "#     print(rankVec[idx[0]])\n",
    "# #     x = np.reshape(x,(len(x),1))\n",
    "#     y = np.array(stimVec)\n",
    "#     y = y[idx]\n",
    "#     X = np.reshape(x, (1,len(x)))\n",
    "#     Y = np.reshape(y, (1,len(y)))\n",
    "#     if len(x)>1: # don't use sub-samples with only 1 element\n",
    "# #         mi = mutual_info_regression(x, y, n_neighbors=1)[0]\n",
    "#         mi = computeSMI(X,Y,m,k)\n",
    "#         print(f'\\tconditional timing MI = {mi}')\n",
    "#         MItemp+=probSC*mi\n",
    "# print(f'temporal MI = {MItemp}')\n",
    "#     print(rankVec[idx])"
   ]
  },
  {
   "cell_type": "code",
   "execution_count": 54,
   "id": "b6a3a986",
   "metadata": {},
   "outputs": [
    {
     "data": {
      "text/plain": [
       "[-0.024908170592113473, 0.265114702058159, -0.4213762950487997]"
      ]
     },
     "execution_count": 54,
     "metadata": {},
     "output_type": "execute_result"
    }
   ],
   "source": [
    "stimVec"
   ]
  },
  {
   "cell_type": "code",
   "execution_count": 65,
   "id": "8117c998",
   "metadata": {},
   "outputs": [
    {
     "name": "stderr",
     "output_type": "stream",
     "text": [
      "Exception ignored on calling ctypes callback function: <function _ThreadpoolInfo._find_modules_with_dl_iterate_phdr.<locals>.match_module_callback at 0x7fb2e3d98310>\n",
      "Traceback (most recent call last):\n",
      "  File \"/home/zmobille3/anaconda/lib/python3.9/site-packages/threadpoolctl.py\", line 400, in match_module_callback\n",
      "    self._make_module_from_path(filepath)\n",
      "  File \"/home/zmobille3/anaconda/lib/python3.9/site-packages/threadpoolctl.py\", line 515, in _make_module_from_path\n",
      "    module = module_class(filepath, prefix, user_api, internal_api)\n",
      "  File \"/home/zmobille3/anaconda/lib/python3.9/site-packages/threadpoolctl.py\", line 606, in __init__\n",
      "    self.version = self.get_version()\n",
      "  File \"/home/zmobille3/anaconda/lib/python3.9/site-packages/threadpoolctl.py\", line 646, in get_version\n",
      "    config = get_config().split()\n",
      "AttributeError: 'NoneType' object has no attribute 'split'\n"
     ]
    },
    {
     "name": "stdout",
     "output_type": "stream",
     "text": [
      "spike count = 0.0\n",
      "probability of spike count = 0.0 is 0.48514851485148514\n",
      "\tconditional timing MI = 1.1102230246251565e-16\n",
      "spike count = 1.0\n",
      "probability of spike count = 1.0 is 0.0297029702970297\n",
      "\tconditional timing MI = 0\n",
      "spike count = 2.0\n",
      "probability of spike count = 2.0 is 0.0891089108910891\n",
      "\tconditional timing MI = 0.9085978835978836\n",
      "spike count = 3.0\n",
      "probability of spike count = 3.0 is 0.07920792079207921\n",
      "\tconditional timing MI = 0.9470238095238095\n",
      "spike count = 4.0\n",
      "probability of spike count = 4.0 is 0.19801980198019803\n",
      "\tconditional timing MI = 0.13180531370933857\n",
      "spike count = 5.0\n",
      "probability of spike count = 5.0 is 0.0594059405940594\n",
      "\tconditional timing MI = 0\n",
      "spike count = 6.0\n",
      "probability of spike count = 6.0 is 0.0594059405940594\n",
      "\tconditional timing MI = 0\n",
      "temporal MI = 0.18207601685899213\n"
     ]
    }
   ],
   "source": [
    "#### NO SLICED MI USED HERE ####\n",
    "\n",
    "SCs = np.unique(countVec) # all observed spike counts\n",
    "# print(SCs)\n",
    "MItemp = 0\n",
    "for sc in SCs:\n",
    "    print(f'spike count = {sc}')\n",
    "#     idx = np.argwhere(countVec==sc)[:,0]\n",
    "#     idx = np.argwhere(countVec==sc)\n",
    "    idx = np.nonzero(countVec==sc)[0]\n",
    "    probSC = len(idx)/len(countVec)\n",
    "    print(f'probability of spike count = {sc} is {probSC}')\n",
    "    x = rankVec[idx]\n",
    "#     print(rankVec[idx])\n",
    "    x = np.reshape(x,(len(x),1))\n",
    "    y = np.array(stimVec)\n",
    "    y = y[idx]\n",
    "    if len(x)>1: # don't use sub-samples with only 1 element\n",
    "        mi = mutual_info_regression(x, y, n_neighbors=1)[0]\n",
    "        print(f'\\tconditional timing MI = {mi}')\n",
    "        MItemp+=probSC*mi\n",
    "print(f'temporal MI = {MItemp}')\n",
    "#     print(rankVec[idx])"
   ]
  }
 ],
 "metadata": {
  "kernelspec": {
   "display_name": "Python 3 (ipykernel)",
   "language": "python",
   "name": "python3"
  },
  "language_info": {
   "codemirror_mode": {
    "name": "ipython",
    "version": 3
   },
   "file_extension": ".py",
   "mimetype": "text/x-python",
   "name": "python",
   "nbconvert_exporter": "python",
   "pygments_lexer": "ipython3",
   "version": "3.9.7"
  }
 },
 "nbformat": 4,
 "nbformat_minor": 5
}
